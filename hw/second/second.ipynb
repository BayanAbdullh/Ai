{
 "cells": [
  {
   "cell_type": "code",
   "execution_count": 3,
   "id": "cea27b0b",
   "metadata": {},
   "outputs": [
    {
     "name": "stdout",
     "output_type": "stream",
     "text": [
      "قائمة الكتب وأسعارها:\n",
      "\n",
      "- A Light in the ... | السعر: Â£51.77\n",
      "- Tipping the Velvet | السعر: Â£53.74\n",
      "- Soumission | السعر: Â£50.10\n",
      "- Sharp Objects | السعر: Â£47.82\n",
      "- Sapiens: A Brief History ... | السعر: Â£54.23\n",
      "- The Requiem Red | السعر: Â£22.65\n",
      "- The Dirty Little Secrets ... | السعر: Â£33.34\n",
      "- The Coming Woman: A ... | السعر: Â£17.93\n",
      "- The Boys in the ... | السعر: Â£22.60\n",
      "- The Black Maria | السعر: Â£52.15\n",
      "- Starving Hearts (Triangular Trade ... | السعر: Â£13.99\n",
      "- Shakespeare's Sonnets | السعر: Â£20.66\n",
      "- Set Me Free | السعر: Â£17.46\n",
      "- Scott Pilgrim's Precious Little ... | السعر: Â£52.29\n",
      "- Rip it Up and ... | السعر: Â£35.02\n",
      "- Our Band Could Be ... | السعر: Â£57.25\n",
      "- Olio | السعر: Â£23.88\n",
      "- Mesaerion: The Best Science ... | السعر: Â£37.59\n",
      "- Libertarianism for Beginners | السعر: Â£51.33\n",
      "- It's Only the Himalayas | السعر: Â£45.17\n"
     ]
    }
   ],
   "source": [
    "import requests\n",
    "from bs4 import BeautifulSoup\n",
    "\n",
    "# الموقع الذي يظهر فيه الخطأ\n",
    "url = \"http://books.toscrape.com/\"\n",
    "\n",
    "# نحدد User-Agent ليبدو طلبنا وكأنه من متصفح\n",
    "headers = {\n",
    "    'User-Agent': 'Mozilla/5.0 (Windows NT 10.0; Win64; x64) AppleWebKit/537.36 (KHTML, like Gecko) Chrome/58.0.3029.110 Safari/537.3'\n",
    "}\n",
    "\n",
    "# نرسل الطلب مع الرأس (headers)\n",
    "response = requests.get(url, headers=headers)\n",
    "\n",
    "if response.status_code == 200:\n",
    "    soup = BeautifulSoup(response.text, 'html.parser')\n",
    "    books = soup.find_all('article', class_='product_pod')\n",
    "\n",
    "    print(\"قائمة الكتب وأسعارها:\\n\")\n",
    "\n",
    "    for book in books:\n",
    "        title = book.h3.a.text.strip()\n",
    "        price = book.find('p', class_='price_color').text\n",
    "        print(f\"- {title} | السعر: {price}\")\n",
    "else:\n",
    "    print(f\"فشل تحميل الصفحة. رمز الاستجابة: {response.status_code}\")\n",
    "    print(\"قد تحتاج إلى استخدام User-Agent مختلف أو طرق أخرى للتغلب على الحظر.\")"
   ]
  },
  {
   "cell_type": "code",
   "execution_count": null,
   "id": "757d48f1",
   "metadata": {},
   "outputs": [],
   "source": []
  }
 ],
 "metadata": {
  "kernelspec": {
   "display_name": "Python 3 (ipykernel)",
   "language": "python",
   "name": "python3"
  },
  "language_info": {
   "codemirror_mode": {
    "name": "ipython",
    "version": 3
   },
   "file_extension": ".py",
   "mimetype": "text/x-python",
   "name": "python",
   "nbconvert_exporter": "python",
   "pygments_lexer": "ipython3",
   "version": "3.9.7"
  }
 },
 "nbformat": 4,
 "nbformat_minor": 5
}
